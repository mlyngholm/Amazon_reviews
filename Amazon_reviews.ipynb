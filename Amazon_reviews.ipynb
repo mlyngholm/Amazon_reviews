{
 "cells": [
  {
   "cell_type": "markdown",
   "id": "fd2247f3",
   "metadata": {},
   "source": [
    "# Amazon reviews "
   ]
  },
  {
   "cell_type": "code",
   "execution_count": 56,
   "id": "59083a2d",
   "metadata": {},
   "outputs": [],
   "source": [
    "import pandas as pd\n",
    "import numpy as np\n",
    "import matplotlib.pyplot as plt\n",
    "import seaborn as sns\n",
    "\n",
    "plt.style.use('ggplot')\n",
    "\n",
    "import nltk"
   ]
  },
  {
   "cell_type": "markdown",
   "id": "564d98aa",
   "metadata": {},
   "source": [
    "The original dataset had over 500k reviews, but I created a new csv file of 5000 sample reviews in order to make it faster"
   ]
  },
  {
   "cell_type": "code",
   "execution_count": 57,
   "id": "27e8227f",
   "metadata": {},
   "outputs": [
    {
     "data": {
      "text/plain": [
       "(5000, 10)"
      ]
     },
     "execution_count": 57,
     "metadata": {},
     "output_type": "execute_result"
    }
   ],
   "source": [
    "df = pd.read_csv(\"reviews\")\n",
    "df.shape"
   ]
  },
  {
   "cell_type": "code",
   "execution_count": 58,
   "id": "dfbb2863",
   "metadata": {},
   "outputs": [
    {
     "data": {
      "text/html": [
       "<div>\n",
       "<style scoped>\n",
       "    .dataframe tbody tr th:only-of-type {\n",
       "        vertical-align: middle;\n",
       "    }\n",
       "\n",
       "    .dataframe tbody tr th {\n",
       "        vertical-align: top;\n",
       "    }\n",
       "\n",
       "    .dataframe thead th {\n",
       "        text-align: right;\n",
       "    }\n",
       "</style>\n",
       "<table border=\"1\" class=\"dataframe\">\n",
       "  <thead>\n",
       "    <tr style=\"text-align: right;\">\n",
       "      <th></th>\n",
       "      <th>Id</th>\n",
       "      <th>ProductId</th>\n",
       "      <th>UserId</th>\n",
       "      <th>ProfileName</th>\n",
       "      <th>HelpfulnessNumerator</th>\n",
       "      <th>HelpfulnessDenominator</th>\n",
       "      <th>Score</th>\n",
       "      <th>Time</th>\n",
       "      <th>Summary</th>\n",
       "      <th>Text</th>\n",
       "    </tr>\n",
       "  </thead>\n",
       "  <tbody>\n",
       "    <tr>\n",
       "      <th>0</th>\n",
       "      <td>341290</td>\n",
       "      <td>B001RVFEP2</td>\n",
       "      <td>A3EJRBPUFFECQP</td>\n",
       "      <td>Jen Y.</td>\n",
       "      <td>0</td>\n",
       "      <td>0</td>\n",
       "      <td>5</td>\n",
       "      <td>1351036800</td>\n",
       "      <td>great portion contolled snack</td>\n",
       "      <td>These are great to have around as a snack... i...</td>\n",
       "    </tr>\n",
       "    <tr>\n",
       "      <th>1</th>\n",
       "      <td>319199</td>\n",
       "      <td>B000Y02VZI</td>\n",
       "      <td>A30GCXZ6TLGVSC</td>\n",
       "      <td>Smiley</td>\n",
       "      <td>1</td>\n",
       "      <td>1</td>\n",
       "      <td>5</td>\n",
       "      <td>1330214400</td>\n",
       "      <td>Awesome frosting !! Tastes like homemade !!</td>\n",
       "      <td>I purchased three different brands of chocolat...</td>\n",
       "    </tr>\n",
       "    <tr>\n",
       "      <th>2</th>\n",
       "      <td>97646</td>\n",
       "      <td>B004JR2SDC</td>\n",
       "      <td>AT039NV5XTGQS</td>\n",
       "      <td>ronen</td>\n",
       "      <td>0</td>\n",
       "      <td>0</td>\n",
       "      <td>4</td>\n",
       "      <td>1350518400</td>\n",
       "      <td>Surprisingly good</td>\n",
       "      <td>Living in Seattle it is not easy to find good ...</td>\n",
       "    </tr>\n",
       "    <tr>\n",
       "      <th>3</th>\n",
       "      <td>135641</td>\n",
       "      <td>B000V9PGSG</td>\n",
       "      <td>APWY5SPO12LJQ</td>\n",
       "      <td>Glenn E. Graham \"Glenn Earl\"</td>\n",
       "      <td>1</td>\n",
       "      <td>1</td>\n",
       "      <td>2</td>\n",
       "      <td>1321833600</td>\n",
       "      <td>Too Bitter</td>\n",
       "      <td>For Sumatra, it is too bitter for me. Bag was ...</td>\n",
       "    </tr>\n",
       "    <tr>\n",
       "      <th>4</th>\n",
       "      <td>375274</td>\n",
       "      <td>B003H4I6V6</td>\n",
       "      <td>A3CORM17LRIRWA</td>\n",
       "      <td>Deborah Snyder</td>\n",
       "      <td>1</td>\n",
       "      <td>1</td>\n",
       "      <td>5</td>\n",
       "      <td>1328054400</td>\n",
       "      <td>BHUJA cracker mix</td>\n",
       "      <td>These never disappoint! They are such a nice m...</td>\n",
       "    </tr>\n",
       "  </tbody>\n",
       "</table>\n",
       "</div>"
      ],
      "text/plain": [
       "       Id   ProductId          UserId                   ProfileName  \\\n",
       "0  341290  B001RVFEP2  A3EJRBPUFFECQP                        Jen Y.   \n",
       "1  319199  B000Y02VZI  A30GCXZ6TLGVSC                        Smiley   \n",
       "2   97646  B004JR2SDC   AT039NV5XTGQS                         ronen   \n",
       "3  135641  B000V9PGSG   APWY5SPO12LJQ  Glenn E. Graham \"Glenn Earl\"   \n",
       "4  375274  B003H4I6V6  A3CORM17LRIRWA                Deborah Snyder   \n",
       "\n",
       "   HelpfulnessNumerator  HelpfulnessDenominator  Score        Time  \\\n",
       "0                     0                       0      5  1351036800   \n",
       "1                     1                       1      5  1330214400   \n",
       "2                     0                       0      4  1350518400   \n",
       "3                     1                       1      2  1321833600   \n",
       "4                     1                       1      5  1328054400   \n",
       "\n",
       "                                       Summary  \\\n",
       "0                great portion contolled snack   \n",
       "1  Awesome frosting !! Tastes like homemade !!   \n",
       "2                            Surprisingly good   \n",
       "3                                   Too Bitter   \n",
       "4                            BHUJA cracker mix   \n",
       "\n",
       "                                                Text  \n",
       "0  These are great to have around as a snack... i...  \n",
       "1  I purchased three different brands of chocolat...  \n",
       "2  Living in Seattle it is not easy to find good ...  \n",
       "3  For Sumatra, it is too bitter for me. Bag was ...  \n",
       "4  These never disappoint! They are such a nice m...  "
      ]
     },
     "execution_count": 58,
     "metadata": {},
     "output_type": "execute_result"
    }
   ],
   "source": [
    "df.head()"
   ]
  },
  {
   "cell_type": "code",
   "execution_count": 59,
   "id": "d9d26d15",
   "metadata": {
    "scrolled": true
   },
   "outputs": [
    {
     "data": {
      "text/plain": [
       "\"These are great to have around as a snack... it's ok to eat the whole bag!  My husband loves this bbq flavor.\""
      ]
     },
     "execution_count": 59,
     "metadata": {},
     "output_type": "execute_result"
    }
   ],
   "source": [
    "df[\"Text\"].values[0]"
   ]
  },
  {
   "cell_type": "markdown",
   "id": "377bcf2c",
   "metadata": {},
   "source": [
    "### Exploratory Data Analysis"
   ]
  },
  {
   "cell_type": "code",
   "execution_count": 60,
   "id": "32daeb70",
   "metadata": {},
   "outputs": [
    {
     "data": {
      "text/plain": [
       "Text(0.5, 0, 'Review stars')"
      ]
     },
     "execution_count": 60,
     "metadata": {},
     "output_type": "execute_result"
    },
    {
     "data": {
      "image/png": "[encoded data removed]",
      "text/plain": [
       "<Figure size 720x360 with 1 Axes>"
      ]
     },
     "metadata": {},
     "output_type": "display_data"
    }
   ],
   "source": [
    "ax = df[\"Score\"].value_counts().sort_index() \\\n",
    "    .plot(kind=\"bar\", title=\"Type of reviews by stars\", figsize=(10,5))\n",
    "\n",
    "ax.set_xlabel('Review stars')"
   ]
  },
  {
   "cell_type": "code",
   "execution_count": 61,
   "id": "a3e6444e",
   "metadata": {},
   "outputs": [
    {
     "name": "stdout",
     "output_type": "stream",
     "text": [
      "<class 'pandas.core.frame.DataFrame'>\n",
      "RangeIndex: 5000 entries, 0 to 4999\n",
      "Data columns (total 10 columns):\n",
      " #   Column                  Non-Null Count  Dtype \n",
      "---  ------                  --------------  ----- \n",
      " 0   Id                      5000 non-null   int64 \n",
      " 1   ProductId               5000 non-null   object\n",
      " 2   UserId                  5000 non-null   object\n",
      " 3   ProfileName             5000 non-null   object\n",
      " 4   HelpfulnessNumerator    5000 non-null   int64 \n",
      " 5   HelpfulnessDenominator  5000 non-null   int64 \n",
      " 6   Score                   5000 non-null   int64 \n",
      " 7   Time                    5000 non-null   int64 \n",
      " 8   Summary                 4998 non-null   object\n",
      " 9   Text                    5000 non-null   object\n",
      "dtypes: int64(5), object(5)\n",
      "memory usage: 390.8+ KB\n"
     ]
    }
   ],
   "source": [
    "df.info()"
   ]
  },
  {
   "cell_type": "markdown",
   "id": "22b2e905",
   "metadata": {},
   "source": [
    "## Prepare data with the NLTK library"
   ]
  },
  {
   "cell_type": "code",
   "execution_count": 62,
   "id": "8a406e18",
   "metadata": {},
   "outputs": [
    {
     "data": {
      "text/plain": [
       "'Love it, no problem with my order I am hoping that I am going to be able to find this product again...'"
      ]
     },
     "execution_count": 62,
     "metadata": {},
     "output_type": "execute_result"
    }
   ],
   "source": [
    "example = df['Text'][78]\n",
    "example"
   ]
  },
  {
   "cell_type": "code",
   "execution_count": 63,
   "id": "580e0caa",
   "metadata": {},
   "outputs": [
    {
     "data": {
      "text/plain": [
       "['Love', 'it', ',', 'no', 'problem', 'with', 'my', 'order']"
      ]
     },
     "execution_count": 63,
     "metadata": {},
     "output_type": "execute_result"
    }
   ],
   "source": [
    "nltk.word_tokenize(example)[:8]"
   ]
  },
  {
   "cell_type": "markdown",
   "id": "7c119447",
   "metadata": {},
   "source": [
    "### Preprocessing"
   ]
  },
  {
   "cell_type": "code",
   "execution_count": 64,
   "id": "22210baa",
   "metadata": {},
   "outputs": [
    {
     "data": {
      "text/html": [
       "<div>\n",
       "<style scoped>\n",
       "    .dataframe tbody tr th:only-of-type {\n",
       "        vertical-align: middle;\n",
       "    }\n",
       "\n",
       "    .dataframe tbody tr th {\n",
       "        vertical-align: top;\n",
       "    }\n",
       "\n",
       "    .dataframe thead th {\n",
       "        text-align: right;\n",
       "    }\n",
       "</style>\n",
       "<table border=\"1\" class=\"dataframe\">\n",
       "  <thead>\n",
       "    <tr style=\"text-align: right;\">\n",
       "      <th></th>\n",
       "      <th>Id</th>\n",
       "      <th>ProductId</th>\n",
       "      <th>UserId</th>\n",
       "      <th>ProfileName</th>\n",
       "      <th>HelpfulnessNumerator</th>\n",
       "      <th>HelpfulnessDenominator</th>\n",
       "      <th>Score</th>\n",
       "      <th>Time</th>\n",
       "      <th>Summary</th>\n",
       "      <th>Text</th>\n",
       "    </tr>\n",
       "  </thead>\n",
       "  <tbody>\n",
       "    <tr>\n",
       "      <th>0</th>\n",
       "      <td>341290</td>\n",
       "      <td>B001RVFEP2</td>\n",
       "      <td>A3EJRBPUFFECQP</td>\n",
       "      <td>Jen Y.</td>\n",
       "      <td>0</td>\n",
       "      <td>0</td>\n",
       "      <td>5</td>\n",
       "      <td>1351036800</td>\n",
       "      <td>great portion contolled snack</td>\n",
       "      <td>These are great to have around as a snack... i...</td>\n",
       "    </tr>\n",
       "    <tr>\n",
       "      <th>1</th>\n",
       "      <td>319199</td>\n",
       "      <td>B000Y02VZI</td>\n",
       "      <td>A30GCXZ6TLGVSC</td>\n",
       "      <td>Smiley</td>\n",
       "      <td>1</td>\n",
       "      <td>1</td>\n",
       "      <td>5</td>\n",
       "      <td>1330214400</td>\n",
       "      <td>Awesome frosting !! Tastes like homemade !!</td>\n",
       "      <td>I purchased three different brands of chocolat...</td>\n",
       "    </tr>\n",
       "  </tbody>\n",
       "</table>\n",
       "</div>"
      ],
      "text/plain": [
       "       Id   ProductId          UserId ProfileName  HelpfulnessNumerator  \\\n",
       "0  341290  B001RVFEP2  A3EJRBPUFFECQP      Jen Y.                     0   \n",
       "1  319199  B000Y02VZI  A30GCXZ6TLGVSC      Smiley                     1   \n",
       "\n",
       "   HelpfulnessDenominator  Score        Time  \\\n",
       "0                       0      5  1351036800   \n",
       "1                       1      5  1330214400   \n",
       "\n",
       "                                       Summary  \\\n",
       "0                great portion contolled snack   \n",
       "1  Awesome frosting !! Tastes like homemade !!   \n",
       "\n",
       "                                                Text  \n",
       "0  These are great to have around as a snack... i...  \n",
       "1  I purchased three different brands of chocolat...  "
      ]
     },
     "execution_count": 64,
     "metadata": {},
     "output_type": "execute_result"
    }
   ],
   "source": [
    "df.head(2)"
   ]
  },
  {
   "cell_type": "code",
   "execution_count": 65,
   "id": "cc719552",
   "metadata": {},
   "outputs": [
    {
     "data": {
      "text/html": [
       "<div>\n",
       "<style scoped>\n",
       "    .dataframe tbody tr th:only-of-type {\n",
       "        vertical-align: middle;\n",
       "    }\n",
       "\n",
       "    .dataframe tbody tr th {\n",
       "        vertical-align: top;\n",
       "    }\n",
       "\n",
       "    .dataframe thead th {\n",
       "        text-align: right;\n",
       "    }\n",
       "</style>\n",
       "<table border=\"1\" class=\"dataframe\">\n",
       "  <thead>\n",
       "    <tr style=\"text-align: right;\">\n",
       "      <th></th>\n",
       "      <th>Id</th>\n",
       "      <th>ProductId</th>\n",
       "      <th>Score</th>\n",
       "      <th>Summary</th>\n",
       "      <th>Text</th>\n",
       "    </tr>\n",
       "  </thead>\n",
       "  <tbody>\n",
       "    <tr>\n",
       "      <th>0</th>\n",
       "      <td>341290</td>\n",
       "      <td>B001RVFEP2</td>\n",
       "      <td>5</td>\n",
       "      <td>great portion contolled snack</td>\n",
       "      <td>These are great to have around as a snack... i...</td>\n",
       "    </tr>\n",
       "    <tr>\n",
       "      <th>1</th>\n",
       "      <td>319199</td>\n",
       "      <td>B000Y02VZI</td>\n",
       "      <td>5</td>\n",
       "      <td>Awesome frosting !! Tastes like homemade !!</td>\n",
       "      <td>I purchased three different brands of chocolat...</td>\n",
       "    </tr>\n",
       "    <tr>\n",
       "      <th>2</th>\n",
       "      <td>97646</td>\n",
       "      <td>B004JR2SDC</td>\n",
       "      <td>4</td>\n",
       "      <td>Surprisingly good</td>\n",
       "      <td>Living in Seattle it is not easy to find good ...</td>\n",
       "    </tr>\n",
       "    <tr>\n",
       "      <th>3</th>\n",
       "      <td>135641</td>\n",
       "      <td>B000V9PGSG</td>\n",
       "      <td>2</td>\n",
       "      <td>Too Bitter</td>\n",
       "      <td>For Sumatra, it is too bitter for me. Bag was ...</td>\n",
       "    </tr>\n",
       "    <tr>\n",
       "      <th>4</th>\n",
       "      <td>375274</td>\n",
       "      <td>B003H4I6V6</td>\n",
       "      <td>5</td>\n",
       "      <td>BHUJA cracker mix</td>\n",
       "      <td>These never disappoint! They are such a nice m...</td>\n",
       "    </tr>\n",
       "  </tbody>\n",
       "</table>\n",
       "</div>"
      ],
      "text/plain": [
       "       Id   ProductId  Score                                      Summary  \\\n",
       "0  341290  B001RVFEP2      5                great portion contolled snack   \n",
       "1  319199  B000Y02VZI      5  Awesome frosting !! Tastes like homemade !!   \n",
       "2   97646  B004JR2SDC      4                            Surprisingly good   \n",
       "3  135641  B000V9PGSG      2                                   Too Bitter   \n",
       "4  375274  B003H4I6V6      5                            BHUJA cracker mix   \n",
       "\n",
       "                                                Text  \n",
       "0  These are great to have around as a snack... i...  \n",
       "1  I purchased three different brands of chocolat...  \n",
       "2  Living in Seattle it is not easy to find good ...  \n",
       "3  For Sumatra, it is too bitter for me. Bag was ...  \n",
       "4  These never disappoint! They are such a nice m...  "
      ]
     },
     "execution_count": 65,
     "metadata": {},
     "output_type": "execute_result"
    }
   ],
   "source": [
    "df.drop(columns=['UserId', 'ProfileName', 'HelpfulnessNumerator', 'HelpfulnessDenominator', 'Time'], inplace = True)\n",
    "df.head()"
   ]
  },
  {
   "cell_type": "code",
   "execution_count": 66,
   "id": "83b8dcb5",
   "metadata": {},
   "outputs": [],
   "source": [
    "import string\n",
    "from nltk.stem import WordNetLemmatizer\n",
    "def preprocessing(text):\n",
    "    text = text.strip()\n",
    "    text = text.lower()\n",
    "    text = ''.join(char for char in text if not char.isdigit())\n",
    "    for punctuation in string.punctuation:\n",
    "        text = text.replace(punctuation,'')\n",
    "    tokenized = nltk.word_tokenize(text)\n",
    "    lemmatizer = WordNetLemmatizer()\n",
    "    lemmatized = [lemmatizer.lemmatize(word) for word in tokenized]\n",
    "    cleaned_sentence = ' '.join(lemmatized)\n",
    "    return cleaned_sentence"
   ]
  },
  {
   "cell_type": "code",
   "execution_count": 67,
   "id": "0858f51b",
   "metadata": {},
   "outputs": [],
   "source": [
    "df['Clean_text'] = df['Text'].apply(preprocessing)"
   ]
  },
  {
   "cell_type": "code",
   "execution_count": 68,
   "id": "d735d72e",
   "metadata": {},
   "outputs": [
    {
     "data": {
      "text/plain": [
       "'love it no problem with my order i am hoping that i am going to be able to find this product again'"
      ]
     },
     "execution_count": 68,
     "metadata": {},
     "output_type": "execute_result"
    }
   ],
   "source": [
    "df['Clean_text'][78]"
   ]
  },
  {
   "cell_type": "code",
   "execution_count": 69,
   "id": "66878e2b",
   "metadata": {},
   "outputs": [
    {
     "data": {
      "text/plain": [
       "0       these are great to have around a a snack it ok...\n",
       "1       i purchased three different brand of chocolate...\n",
       "2       living in seattle it is not easy to find good ...\n",
       "3       for sumatra it is too bitter for me bag wa ok ...\n",
       "4       these never disappoint they are such a nice mi...\n",
       "                              ...                        \n",
       "4995    best snack in the world love em shipped fast a...\n",
       "4996    i love this teavery soothing and comforting it...\n",
       "4997    we discovered this drink at a school picnic ju...\n",
       "4998    our cat love it at least for now a anyone know...\n",
       "4999    this food may be good for my cat but two of my...\n",
       "Name: Clean_text, Length: 5000, dtype: object"
      ]
     },
     "execution_count": 69,
     "metadata": {},
     "output_type": "execute_result"
    }
   ],
   "source": [
    "preprocesed_reviews = df['Clean_text']\n",
    "preprocesed_reviews"
   ]
  },
  {
   "cell_type": "markdown",
   "id": "451a695d",
   "metadata": {},
   "source": [
    "### Classify positive and negative reviews"
   ]
  },
  {
   "cell_type": "markdown",
   "id": "29ace8a2",
   "metadata": {},
   "source": [
    "- If a review has a score of 4 or 5 we will classify it as positive\n",
    "- If a review has a score of 3 or below we will classify it as negative"
   ]
  },
  {
   "cell_type": "code",
   "execution_count": 70,
   "id": "a40fa2ef",
   "metadata": {},
   "outputs": [
    {
     "data": {
      "text/html": [
       "<div>\n",
       "<style scoped>\n",
       "    .dataframe tbody tr th:only-of-type {\n",
       "        vertical-align: middle;\n",
       "    }\n",
       "\n",
       "    .dataframe tbody tr th {\n",
       "        vertical-align: top;\n",
       "    }\n",
       "\n",
       "    .dataframe thead th {\n",
       "        text-align: right;\n",
       "    }\n",
       "</style>\n",
       "<table border=\"1\" class=\"dataframe\">\n",
       "  <thead>\n",
       "    <tr style=\"text-align: right;\">\n",
       "      <th></th>\n",
       "      <th>Id</th>\n",
       "      <th>ProductId</th>\n",
       "      <th>Score</th>\n",
       "      <th>Summary</th>\n",
       "      <th>Text</th>\n",
       "      <th>Clean_text</th>\n",
       "    </tr>\n",
       "  </thead>\n",
       "  <tbody>\n",
       "    <tr>\n",
       "      <th>0</th>\n",
       "      <td>341290</td>\n",
       "      <td>B001RVFEP2</td>\n",
       "      <td>5</td>\n",
       "      <td>great portion contolled snack</td>\n",
       "      <td>These are great to have around as a snack... i...</td>\n",
       "      <td>these are great to have around a a snack it ok...</td>\n",
       "    </tr>\n",
       "    <tr>\n",
       "      <th>1</th>\n",
       "      <td>319199</td>\n",
       "      <td>B000Y02VZI</td>\n",
       "      <td>5</td>\n",
       "      <td>Awesome frosting !! Tastes like homemade !!</td>\n",
       "      <td>I purchased three different brands of chocolat...</td>\n",
       "      <td>i purchased three different brand of chocolate...</td>\n",
       "    </tr>\n",
       "  </tbody>\n",
       "</table>\n",
       "</div>"
      ],
      "text/plain": [
       "       Id   ProductId  Score                                      Summary  \\\n",
       "0  341290  B001RVFEP2      5                great portion contolled snack   \n",
       "1  319199  B000Y02VZI      5  Awesome frosting !! Tastes like homemade !!   \n",
       "\n",
       "                                                Text  \\\n",
       "0  These are great to have around as a snack... i...   \n",
       "1  I purchased three different brands of chocolat...   \n",
       "\n",
       "                                          Clean_text  \n",
       "0  these are great to have around a a snack it ok...  \n",
       "1  i purchased three different brand of chocolate...  "
      ]
     },
     "execution_count": 70,
     "metadata": {},
     "output_type": "execute_result"
    }
   ],
   "source": [
    "df.head(2)"
   ]
  },
  {
   "cell_type": "code",
   "execution_count": 71,
   "id": "fb278b0a",
   "metadata": {},
   "outputs": [
    {
     "data": {
      "text/plain": [
       "5000"
      ]
     },
     "execution_count": 71,
     "metadata": {},
     "output_type": "execute_result"
    }
   ],
   "source": [
    "len(df)"
   ]
  },
  {
   "cell_type": "code",
   "execution_count": 76,
   "id": "bf91810e",
   "metadata": {},
   "outputs": [],
   "source": [
    "df = df[df['Score'] != 3].reset_index()"
   ]
  },
  {
   "cell_type": "code",
   "execution_count": 77,
   "id": "a0e7d9d7",
   "metadata": {},
   "outputs": [
    {
     "data": {
      "text/html": [
       "<div>\n",
       "<style scoped>\n",
       "    .dataframe tbody tr th:only-of-type {\n",
       "        vertical-align: middle;\n",
       "    }\n",
       "\n",
       "    .dataframe tbody tr th {\n",
       "        vertical-align: top;\n",
       "    }\n",
       "\n",
       "    .dataframe thead th {\n",
       "        text-align: right;\n",
       "    }\n",
       "</style>\n",
       "<table border=\"1\" class=\"dataframe\">\n",
       "  <thead>\n",
       "    <tr style=\"text-align: right;\">\n",
       "      <th></th>\n",
       "      <th>index</th>\n",
       "      <th>Id</th>\n",
       "      <th>ProductId</th>\n",
       "      <th>Score</th>\n",
       "      <th>Summary</th>\n",
       "      <th>Text</th>\n",
       "      <th>Clean_text</th>\n",
       "      <th>positive</th>\n",
       "    </tr>\n",
       "  </thead>\n",
       "  <tbody>\n",
       "    <tr>\n",
       "      <th>0</th>\n",
       "      <td>0</td>\n",
       "      <td>341290</td>\n",
       "      <td>B001RVFEP2</td>\n",
       "      <td>5</td>\n",
       "      <td>great portion contolled snack</td>\n",
       "      <td>These are great to have around as a snack... i...</td>\n",
       "      <td>these are great to have around a a snack it ok...</td>\n",
       "      <td>1</td>\n",
       "    </tr>\n",
       "    <tr>\n",
       "      <th>1</th>\n",
       "      <td>1</td>\n",
       "      <td>319199</td>\n",
       "      <td>B000Y02VZI</td>\n",
       "      <td>5</td>\n",
       "      <td>Awesome frosting !! Tastes like homemade !!</td>\n",
       "      <td>I purchased three different brands of chocolat...</td>\n",
       "      <td>i purchased three different brand of chocolate...</td>\n",
       "      <td>1</td>\n",
       "    </tr>\n",
       "  </tbody>\n",
       "</table>\n",
       "</div>"
      ],
      "text/plain": [
       "   index      Id   ProductId  Score  \\\n",
       "0      0  341290  B001RVFEP2      5   \n",
       "1      1  319199  B000Y02VZI      5   \n",
       "\n",
       "                                       Summary  \\\n",
       "0                great portion contolled snack   \n",
       "1  Awesome frosting !! Tastes like homemade !!   \n",
       "\n",
       "                                                Text  \\\n",
       "0  These are great to have around as a snack... i...   \n",
       "1  I purchased three different brands of chocolat...   \n",
       "\n",
       "                                          Clean_text  positive  \n",
       "0  these are great to have around a a snack it ok...         1  \n",
       "1  i purchased three different brand of chocolate...         1  "
      ]
     },
     "execution_count": 77,
     "metadata": {},
     "output_type": "execute_result"
    }
   ],
   "source": [
    "df['positive'] = df['Score'].apply(lambda x: 1 if x > 3 else 0)\n",
    "df.head(2)"
   ]
  },
  {
   "cell_type": "code",
   "execution_count": 78,
   "id": "b7bf5773",
   "metadata": {},
   "outputs": [
    {
     "data": {
      "text/plain": [
       "4628"
      ]
     },
     "execution_count": 78,
     "metadata": {},
     "output_type": "execute_result"
    }
   ],
   "source": [
    "len(df)"
   ]
  },
  {
   "cell_type": "markdown",
   "id": "1e9235da",
   "metadata": {},
   "source": [
    "## Bag of words"
   ]
  },
  {
   "cell_type": "code",
   "execution_count": 79,
   "id": "47af5636",
   "metadata": {},
   "outputs": [
    {
     "data": {
      "text/plain": [
       "<4628x15649 sparse matrix of type '<class 'numpy.int64'>'\n",
       "\twith 240891 stored elements in Compressed Sparse Row format>"
      ]
     },
     "execution_count": 79,
     "metadata": {},
     "output_type": "execute_result"
    }
   ],
   "source": [
    "from sklearn.feature_extraction.text import CountVectorizer\n",
    "count_vect = CountVectorizer()\n",
    "\n",
    "count_vect.fit(df['Clean_text'])\n",
    "\n",
    "final_count = count_vect.transform(df['Clean_text'])\n",
    "final_count"
   ]
  },
  {
   "cell_type": "code",
   "execution_count": 80,
   "id": "94c7ebb8",
   "metadata": {},
   "outputs": [
    {
     "name": "stdout",
     "output_type": "stream",
     "text": [
      "The shape of the BoW vectorizer: (4628, 15649)\n",
      "The number of unique words: 15649\n"
     ]
    }
   ],
   "source": [
    "print(f'The shape of the BoW vectorizer: {final_count.shape}')\n",
    "print(f'The number of unique words: {final_count.shape[1]}')"
   ]
  },
  {
   "cell_type": "markdown",
   "id": "efc83950",
   "metadata": {},
   "source": [
    "## Bi-grams"
   ]
  },
  {
   "cell_type": "code",
   "execution_count": 81,
   "id": "4248d2b5",
   "metadata": {},
   "outputs": [
    {
     "name": "stdout",
     "output_type": "stream",
     "text": [
      "The shape of the BoW vectorizer: (4628, 4000)\n",
      "The number of unique words including unigrams and bigrams: 4000\n"
     ]
    }
   ],
   "source": [
    "count_vect = CountVectorizer(ngram_range=(1,2), min_df=10, max_features=4000)\n",
    "final_bigram_counts = count_vect.fit_transform(df['Clean_text'])\n",
    "\n",
    "print(f'The shape of the BoW vectorizer: {final_bigram_counts.get_shape()}')\n",
    "print(f'The number of unique words including unigrams and bigrams: {final_bigram_counts.shape[1]}')"
   ]
  },
  {
   "cell_type": "markdown",
   "id": "4a486cef",
   "metadata": {},
   "source": [
    "## TF-IDF"
   ]
  },
  {
   "cell_type": "code",
   "execution_count": 83,
   "id": "3c3110ed",
   "metadata": {},
   "outputs": [
    {
     "name": "stdout",
     "output_type": "stream",
     "text": [
      "Some sample features ['able to' 'about' 'about every' 'about half' 'about how' 'about it'\n",
      " 'about minute' 'about month' 'about of']\n"
     ]
    }
   ],
   "source": [
    "from sklearn.feature_extraction.text import TfidfVectorizer\n",
    "\n",
    "tf_idf_vect = TfidfVectorizer(ngram_range=(1,2), min_df=10)\n",
    "tf_idf_vect.fit(df['Clean_text'])\n",
    "print('Some sample features', tf_idf_vect.get_feature_names_out()[1:10])\n",
    "\n",
    "\n",
    "final_tf_idf_vect = tf_idf_vect.transform(df['Clean_text'])"
   ]
  },
  {
   "cell_type": "code",
   "execution_count": 84,
   "id": "10308a58",
   "metadata": {},
   "outputs": [
    {
     "name": "stdout",
     "output_type": "stream",
     "text": [
      "The shape of the tf-idf vectorizer: (4628, 6375)\n",
      "The number of unique words including unigrams and bigrams: 6375\n"
     ]
    }
   ],
   "source": [
    "print(f'The shape of the tf-idf vectorizer: {final_tf_idf_vect.get_shape()}')\n",
    "print(f'The number of unique words including unigrams and bigrams: {final_tf_idf_vect.shape[1]}')"
   ]
  },
  {
   "cell_type": "code",
   "execution_count": 85,
   "id": "16d7314b",
   "metadata": {},
   "outputs": [
    {
     "data": {
      "text/html": [
       "<div>\n",
       "<style scoped>\n",
       "    .dataframe tbody tr th:only-of-type {\n",
       "        vertical-align: middle;\n",
       "    }\n",
       "\n",
       "    .dataframe tbody tr th {\n",
       "        vertical-align: top;\n",
       "    }\n",
       "\n",
       "    .dataframe thead th {\n",
       "        text-align: right;\n",
       "    }\n",
       "</style>\n",
       "<table border=\"1\" class=\"dataframe\">\n",
       "  <thead>\n",
       "    <tr style=\"text-align: right;\">\n",
       "      <th></th>\n",
       "      <th>index</th>\n",
       "      <th>Id</th>\n",
       "      <th>ProductId</th>\n",
       "      <th>Score</th>\n",
       "      <th>Summary</th>\n",
       "      <th>Text</th>\n",
       "      <th>Clean_text</th>\n",
       "      <th>positive</th>\n",
       "    </tr>\n",
       "  </thead>\n",
       "  <tbody>\n",
       "    <tr>\n",
       "      <th>0</th>\n",
       "      <td>0</td>\n",
       "      <td>341290</td>\n",
       "      <td>B001RVFEP2</td>\n",
       "      <td>5</td>\n",
       "      <td>great portion contolled snack</td>\n",
       "      <td>These are great to have around as a snack... i...</td>\n",
       "      <td>these are great to have around a a snack it ok...</td>\n",
       "      <td>1</td>\n",
       "    </tr>\n",
       "    <tr>\n",
       "      <th>1</th>\n",
       "      <td>1</td>\n",
       "      <td>319199</td>\n",
       "      <td>B000Y02VZI</td>\n",
       "      <td>5</td>\n",
       "      <td>Awesome frosting !! Tastes like homemade !!</td>\n",
       "      <td>I purchased three different brands of chocolat...</td>\n",
       "      <td>i purchased three different brand of chocolate...</td>\n",
       "      <td>1</td>\n",
       "    </tr>\n",
       "    <tr>\n",
       "      <th>2</th>\n",
       "      <td>2</td>\n",
       "      <td>97646</td>\n",
       "      <td>B004JR2SDC</td>\n",
       "      <td>4</td>\n",
       "      <td>Surprisingly good</td>\n",
       "      <td>Living in Seattle it is not easy to find good ...</td>\n",
       "      <td>living in seattle it is not easy to find good ...</td>\n",
       "      <td>1</td>\n",
       "    </tr>\n",
       "    <tr>\n",
       "      <th>3</th>\n",
       "      <td>3</td>\n",
       "      <td>135641</td>\n",
       "      <td>B000V9PGSG</td>\n",
       "      <td>2</td>\n",
       "      <td>Too Bitter</td>\n",
       "      <td>For Sumatra, it is too bitter for me. Bag was ...</td>\n",
       "      <td>for sumatra it is too bitter for me bag wa ok ...</td>\n",
       "      <td>0</td>\n",
       "    </tr>\n",
       "    <tr>\n",
       "      <th>4</th>\n",
       "      <td>4</td>\n",
       "      <td>375274</td>\n",
       "      <td>B003H4I6V6</td>\n",
       "      <td>5</td>\n",
       "      <td>BHUJA cracker mix</td>\n",
       "      <td>These never disappoint! They are such a nice m...</td>\n",
       "      <td>these never disappoint they are such a nice mi...</td>\n",
       "      <td>1</td>\n",
       "    </tr>\n",
       "    <tr>\n",
       "      <th>...</th>\n",
       "      <td>...</td>\n",
       "      <td>...</td>\n",
       "      <td>...</td>\n",
       "      <td>...</td>\n",
       "      <td>...</td>\n",
       "      <td>...</td>\n",
       "      <td>...</td>\n",
       "      <td>...</td>\n",
       "    </tr>\n",
       "    <tr>\n",
       "      <th>4623</th>\n",
       "      <td>4994</td>\n",
       "      <td>45029</td>\n",
       "      <td>B0029NTQ1K</td>\n",
       "      <td>5</td>\n",
       "      <td>Hairball Control Chicken Favour Treat</td>\n",
       "      <td>Each of my three cats loves this flavor of the...</td>\n",
       "      <td>each of my three cat love this flavor of the t...</td>\n",
       "      <td>1</td>\n",
       "    </tr>\n",
       "    <tr>\n",
       "      <th>4624</th>\n",
       "      <td>4995</td>\n",
       "      <td>122801</td>\n",
       "      <td>B004SKOOHI</td>\n",
       "      <td>5</td>\n",
       "      <td>Still amazing</td>\n",
       "      <td>Best snack in the world love em!! Shipped fast...</td>\n",
       "      <td>best snack in the world love em shipped fast a...</td>\n",
       "      <td>1</td>\n",
       "    </tr>\n",
       "    <tr>\n",
       "      <th>4625</th>\n",
       "      <td>4996</td>\n",
       "      <td>269981</td>\n",
       "      <td>B008K9TIU6</td>\n",
       "      <td>5</td>\n",
       "      <td>My favorite tea</td>\n",
       "      <td>I love this tea...very soothing and comforting...</td>\n",
       "      <td>i love this teavery soothing and comforting it...</td>\n",
       "      <td>1</td>\n",
       "    </tr>\n",
       "    <tr>\n",
       "      <th>4626</th>\n",
       "      <td>4997</td>\n",
       "      <td>422579</td>\n",
       "      <td>B003LPMC3O</td>\n",
       "      <td>5</td>\n",
       "      <td>The kids think they are drinking soda pop!</td>\n",
       "      <td>We discovered this drink at a school picnic.  ...</td>\n",
       "      <td>we discovered this drink at a school picnic ju...</td>\n",
       "      <td>1</td>\n",
       "    </tr>\n",
       "    <tr>\n",
       "      <th>4627</th>\n",
       "      <td>4998</td>\n",
       "      <td>224061</td>\n",
       "      <td>B004N5CF8I</td>\n",
       "      <td>5</td>\n",
       "      <td>Excellent cat food</td>\n",
       "      <td>Our cats love it at least for now. As anyone k...</td>\n",
       "      <td>our cat love it at least for now a anyone know...</td>\n",
       "      <td>1</td>\n",
       "    </tr>\n",
       "  </tbody>\n",
       "</table>\n",
       "<p>4628 rows × 8 columns</p>\n",
       "</div>"
      ],
      "text/plain": [
       "      index      Id   ProductId  Score  \\\n",
       "0         0  341290  B001RVFEP2      5   \n",
       "1         1  319199  B000Y02VZI      5   \n",
       "2         2   97646  B004JR2SDC      4   \n",
       "3         3  135641  B000V9PGSG      2   \n",
       "4         4  375274  B003H4I6V6      5   \n",
       "...     ...     ...         ...    ...   \n",
       "4623   4994   45029  B0029NTQ1K      5   \n",
       "4624   4995  122801  B004SKOOHI      5   \n",
       "4625   4996  269981  B008K9TIU6      5   \n",
       "4626   4997  422579  B003LPMC3O      5   \n",
       "4627   4998  224061  B004N5CF8I      5   \n",
       "\n",
       "                                          Summary  \\\n",
       "0                   great portion contolled snack   \n",
       "1     Awesome frosting !! Tastes like homemade !!   \n",
       "2                               Surprisingly good   \n",
       "3                                      Too Bitter   \n",
       "4                               BHUJA cracker mix   \n",
       "...                                           ...   \n",
       "4623        Hairball Control Chicken Favour Treat   \n",
       "4624                                Still amazing   \n",
       "4625                              My favorite tea   \n",
       "4626   The kids think they are drinking soda pop!   \n",
       "4627                           Excellent cat food   \n",
       "\n",
       "                                                   Text  \\\n",
       "0     These are great to have around as a snack... i...   \n",
       "1     I purchased three different brands of chocolat...   \n",
       "2     Living in Seattle it is not easy to find good ...   \n",
       "3     For Sumatra, it is too bitter for me. Bag was ...   \n",
       "4     These never disappoint! They are such a nice m...   \n",
       "...                                                 ...   \n",
       "4623  Each of my three cats loves this flavor of the...   \n",
       "4624  Best snack in the world love em!! Shipped fast...   \n",
       "4625  I love this tea...very soothing and comforting...   \n",
       "4626  We discovered this drink at a school picnic.  ...   \n",
       "4627  Our cats love it at least for now. As anyone k...   \n",
       "\n",
       "                                             Clean_text  positive  \n",
       "0     these are great to have around a a snack it ok...         1  \n",
       "1     i purchased three different brand of chocolate...         1  \n",
       "2     living in seattle it is not easy to find good ...         1  \n",
       "3     for sumatra it is too bitter for me bag wa ok ...         0  \n",
       "4     these never disappoint they are such a nice mi...         1  \n",
       "...                                                 ...       ...  \n",
       "4623  each of my three cat love this flavor of the t...         1  \n",
       "4624  best snack in the world love em shipped fast a...         1  \n",
       "4625  i love this teavery soothing and comforting it...         1  \n",
       "4626  we discovered this drink at a school picnic ju...         1  \n",
       "4627  our cat love it at least for now a anyone know...         1  \n",
       "\n",
       "[4628 rows x 8 columns]"
      ]
     },
     "execution_count": 85,
     "metadata": {},
     "output_type": "execute_result"
    }
   ],
   "source": [
    "df"
   ]
  },
  {
   "cell_type": "code",
   "execution_count": null,
   "id": "f28ebd4a",
   "metadata": {},
   "outputs": [],
   "source": []
  }
 ],
 "metadata": {
  "kernelspec": {
   "display_name": "Python 3 (ipykernel)",
   "language": "python",
   "name": "python3"
  },
  "language_info": {
   "codemirror_mode": {
    "name": "ipython",
    "version": 3
   },
   "file_extension": ".py",
   "mimetype": "text/x-python",
   "name": "python",
   "nbconvert_exporter": "python",
   "pygments_lexer": "ipython3",
   "version": "3.8.12"
  },
  "toc": {
   "base_numbering": 1,
   "nav_menu": {},
   "number_sections": true,
   "sideBar": true,
   "skip_h1_title": false,
   "title_cell": "Table of Contents",
   "title_sidebar": "Contents",
   "toc_cell": false,
   "toc_position": {},
   "toc_section_display": true,
   "toc_window_display": false
  }
 },
 "nbformat": 4,
 "nbformat_minor": 5
}
